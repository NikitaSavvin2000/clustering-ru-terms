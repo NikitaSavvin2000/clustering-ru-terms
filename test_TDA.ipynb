{
 "cells": [
  {
   "cell_type": "code",
   "execution_count": 3,
   "metadata": {
    "collapsed": true
   },
   "outputs": [
    {
     "ename": "ModuleNotFoundError",
     "evalue": "No module named 'gtda'",
     "output_type": "error",
     "traceback": [
      "\u001B[0;31m---------------------------------------------------------------------------\u001B[0m",
      "\u001B[0;31mModuleNotFoundError\u001B[0m                       Traceback (most recent call last)",
      "Cell \u001B[0;32mIn[3], line 2\u001B[0m\n\u001B[1;32m      1\u001B[0m \u001B[38;5;28;01mimport\u001B[39;00m \u001B[38;5;21;01mpandas\u001B[39;00m \u001B[38;5;28;01mas\u001B[39;00m \u001B[38;5;21;01mpd\u001B[39;00m\n\u001B[0;32m----> 2\u001B[0m \u001B[38;5;28;01mfrom\u001B[39;00m \u001B[38;5;21;01mgtda\u001B[39;00m\u001B[38;5;21;01m.\u001B[39;00m\u001B[38;5;21;01mtime_series\u001B[39;00m \u001B[38;5;28;01mimport\u001B[39;00m TakensEmbedding\n\u001B[1;32m      3\u001B[0m \u001B[38;5;28;01mfrom\u001B[39;00m \u001B[38;5;21;01mgtda\u001B[39;00m\u001B[38;5;21;01m.\u001B[39;00m\u001B[38;5;21;01mdiagrams\u001B[39;00m \u001B[38;5;28;01mimport\u001B[39;00m Scaler, Filtering, PersistenceEntropy\n\u001B[1;32m      4\u001B[0m \u001B[38;5;28;01mfrom\u001B[39;00m \u001B[38;5;21;01mgtda\u001B[39;00m\u001B[38;5;21;01m.\u001B[39;00m\u001B[38;5;21;01mhomology\u001B[39;00m \u001B[38;5;28;01mimport\u001B[39;00m VietorisRipsPersistence\n",
      "\u001B[0;31mModuleNotFoundError\u001B[0m: No module named 'gtda'"
     ]
    }
   ],
   "source": [
    "import pandas as pd\n",
    "from gtda.time_series import TakensEmbedding\n",
    "from gtda.diagrams import Scaler, Filtering, PersistenceEntropy\n",
    "from gtda.homology import VietorisRipsPersistence\n",
    "from gtda.pipeline import Pipeline\n",
    "from sklearn.cluster import KMeans\n",
    "import numpy as np\n",
    "\n",
    "# Пример создания DataFrame\n",
    "data = {\n",
    "    \"term\": [\"word1\", \"word2\", \"word3\"],\n",
    "    \"vector\": [\n",
    "        [0.1, 0.2, 0.3],\n",
    "        [0.4, 0.5, 0.6],\n",
    "        [0.7, 0.8, 0.9]\n",
    "    ]\n",
    "}\n",
    "\n",
    "df = pd.DataFrame(data)\n",
    "\n",
    "# Создаем конвейер для анализа\n",
    "pipeline = Pipeline([\n",
    "    (\"embedding\", TakensEmbedding(parameters_type=\"fixed\", dimension=2, time_delay=1)),\n",
    "    (\"rips\", VietorisRipsPersistence(homology_dimensions=[0, 1])),\n",
    "    (\"scaler\", Scaler()),\n",
    "    (\"filtering\", Filtering(epsilon=0.5)),\n",
    "    (\"persistence_entropy\", PersistenceEntropy()),\n",
    "])\n",
    "\n",
    "# Применяем конвейер к данным\n",
    "X_transformed = pipeline.fit_transform(df[\"vector\"].values)\n",
    "\n",
    "# Получаем результаты анализа\n",
    "persistence_entropy_values = X_transformed[\"persistence_entropy\"]\n",
    "\n",
    "# Пример кластеризации с использованием KMeans\n",
    "kmeans = KMeans(n_clusters=3, random_state=42)\n",
    "clusters = kmeans.fit_predict(np.vstack(persistence_entropy_values))\n",
    "\n",
    "# Добавляем информацию о кластерах к DataFrame\n",
    "df[\"cluster\"] = clusters\n",
    "\n",
    "# Выводим результаты кластеризации\n",
    "print(df)\n"
   ]
  }
 ],
 "metadata": {
  "kernelspec": {
   "display_name": "Python 3",
   "language": "python",
   "name": "python3"
  },
  "language_info": {
   "codemirror_mode": {
    "name": "ipython",
    "version": 2
   },
   "file_extension": ".py",
   "mimetype": "text/x-python",
   "name": "python",
   "nbconvert_exporter": "python",
   "pygments_lexer": "ipython2",
   "version": "2.7.6"
  }
 },
 "nbformat": 4,
 "nbformat_minor": 0
}
